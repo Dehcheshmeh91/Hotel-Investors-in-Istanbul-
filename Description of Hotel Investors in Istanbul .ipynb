{
 "cells": [
  {
   "cell_type": "markdown",
   "metadata": {},
   "source": [
    "                        A description of the problem and a discussion of the background"
   ]
  },
  {
   "cell_type": "markdown",
   "metadata": {},
   "source": [
    "Istanbul is the most well-known city in Turkey and one of the great metropolises, straddling both Europe and Asia where economy and culture from all over the world meets. The number of foreigners visiting Turkey went up 18.05 percent year-on-year to 5.319 million in June 2019 after the crises for past years. Now as tourist returning back to the city more and more hotels are opening and asking themselves, where would be the best location for the business and visitors? \n",
    "Hereby, it is important to consider the available facilities that are especially attractive for tourists when visiting Istanbul, when it comes to select a place.\n",
    "\n",
    "In the meantime, new neighborhoods like Balad in Fatih are making a great effort to become more attractive to visitors but are they ready for all the expectations visitors might bring with them? Or are the well-known areas still at their peak?\n",
    "To find out about this question I have collected data from https://geo.nyu.edu/catalog/stanford-nj696zj1674. And with the help of Foursqure and python I could cluster Boroughs in Istanbul and been able to analysis this city. \n"
   ]
  },
  {
   "cell_type": "markdown",
   "metadata": {},
   "source": [
    "                        A description of the data and how it will be used to solve the problem"
   ]
  },
  {
   "cell_type": "markdown",
   "metadata": {},
   "source": [
    "In this report the first data was collected from https://geo.nyu.edu/catalog/stanford-nj696zj1674 / Second-level Administrative Divisions of the Turkey from Spatial Data Repository of NYU. where we could find all the cities in Istanbul with their boroughs. The data was reduced to only Istanbul with its 39 districts.\n",
    "\n",
    "Second, Foursqure was use to get the most common venues of each borough in Istanbul.\n",
    "\n",
    "With help of geocode all the coordinates of each borough were found and put into a dataframe. \n",
    "\n"
   ]
  },
  {
   "cell_type": "code",
   "execution_count": null,
   "metadata": {},
   "outputs": [],
   "source": []
  }
 ],
 "metadata": {
  "kernelspec": {
   "display_name": "Python",
   "language": "python",
   "name": "conda-env-python-py"
  },
  "language_info": {
   "codemirror_mode": {
    "name": "ipython",
    "version": 3
   },
   "file_extension": ".py",
   "mimetype": "text/x-python",
   "name": "python",
   "nbconvert_exporter": "python",
   "pygments_lexer": "ipython3",
   "version": "3.6.7"
  }
 },
 "nbformat": 4,
 "nbformat_minor": 4
}
